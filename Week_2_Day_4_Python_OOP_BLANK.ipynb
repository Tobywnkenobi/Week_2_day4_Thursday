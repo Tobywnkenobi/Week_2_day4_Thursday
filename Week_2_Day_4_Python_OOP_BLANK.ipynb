{
 "cells": [
  {
   "cell_type": "markdown",
   "metadata": {},
   "source": [
    "# Object-Oriented-Programming (OOP)"
   ]
  },
  {
   "cell_type": "markdown",
   "metadata": {},
   "source": [
    "## Tasks Today:\n",
    "\n",
    "   \n",
    "\n",
    "1) <b>Creating a Class (Initializing/Declaring)</b> <br>\n",
    "2) <b>Using a Class (Instantiating)</b> <br>\n",
    " &nbsp;&nbsp;&nbsp;&nbsp; a) Creating One Instance <br>\n",
    " &nbsp;&nbsp;&nbsp;&nbsp; b) Creating Multiple Instances <br>\n",
    " &nbsp;&nbsp;&nbsp;&nbsp; c) In-Class Exercise #1 - Create a Class 'Car' and instantiate three different makes of cars <br>\n",
    "3) <b>The \\__init\\__() Method</b> <br>\n",
    " &nbsp;&nbsp;&nbsp;&nbsp; a) The 'self' Attribute <br>\n",
    "4) <b>Class Attributes</b> <br>\n",
    " &nbsp;&nbsp;&nbsp;&nbsp; a) Initializing Attributes <br>\n",
    " &nbsp;&nbsp;&nbsp;&nbsp; b) Setting an Attribute Outside of the \\__init\\__() Method <br>\n",
    " &nbsp;&nbsp;&nbsp;&nbsp; c) Setting Defaults for Attributes <br>\n",
    " &nbsp;&nbsp;&nbsp;&nbsp; d) Accessing Class Attributes <br>\n",
    " &nbsp;&nbsp;&nbsp;&nbsp; e) Changing Class Attributes <br>\n",
    " &nbsp;&nbsp;&nbsp;&nbsp; f) In-Class Exercise #2 - Add a color and wheels attribute to your 'Car' class <br>\n",
    "5) <b>Class Methods</b> <br>\n",
    " &nbsp;&nbsp;&nbsp;&nbsp; a) Creating <br>\n",
    " &nbsp;&nbsp;&nbsp;&nbsp; b) Calling <br>\n",
    " &nbsp;&nbsp;&nbsp;&nbsp; c) Modifying an Attribute's Value Through a Method <br>\n",
    " &nbsp;&nbsp;&nbsp;&nbsp; d) Incrementing an Attribute's Value Through a Method <br>\n",
    " &nbsp;&nbsp;&nbsp;&nbsp; e) In-Class Exercise #3 - Add a method that prints the cars color and wheel number, then call them <br>\n",
    "6) <b>Inheritance</b> <br>\n",
    " &nbsp;&nbsp;&nbsp;&nbsp; a) Syntax for Inheriting from a Parent Class <br>\n",
    " &nbsp;&nbsp;&nbsp;&nbsp; b) The \\__init\\__() Method for a Child Class (super()) <br>\n",
    " &nbsp;&nbsp;&nbsp;&nbsp; c) Defining Attributes and Methods for the Child Class <br>\n",
    " &nbsp;&nbsp;&nbsp;&nbsp; d) Method Overriding <br>\n",
    " &nbsp;&nbsp;&nbsp;&nbsp; e) In-Class Exercise #4 - Create a class 'Ford' that inherits from 'Car' class and initialize it as a Blue Ford Explorer with 4 wheels using the super() method <br>\n",
    "7) <b>Classes as Attributes</b> <br>\n",
    "8) <b>Exercises</b> <br>\n",
    " &nbsp;&nbsp;&nbsp;&nbsp; a) Exercise #1 - Turn the shopping cart program from yesterday into an object-oriented program <br>"
   ]
  },
  {
   "cell_type": "markdown",
   "metadata": {},
   "source": [
    "## Creating a Class (Initializing/Declaring)\n",
    "<p>When creating a class, function, or even a variable you are initializing that object. Initializing and Declaring occur at the same time in Python, whereas in lower level languages you have to declare an object before initializing it. This is the first step in the process of using a class.</p>"
   ]
  },
  {
   "cell_type": "code",
   "execution_count": 4,
   "metadata": {},
   "outputs": [],
   "source": [
    "class Car():\n",
    "    wheels = 4\n",
    "    color = 'blue'\n",
    "    "
   ]
  },
  {
   "cell_type": "code",
   "execution_count": null,
   "metadata": {},
   "outputs": [],
   "source": [
    "class Agent:\n",
    "    name = 'Smith'\n",
    "    glasses = 'black'"
   ]
  },
  {
   "cell_type": "markdown",
   "metadata": {},
   "source": [
    "## Using a Class (Instantiating)\n",
    "<p>The process of creating a class is called <i>Instantiating</i>. Each time you create a variable of that type of class, it is referred to as an <i>Instance</i> of that class. This is the second step in the process of using a class.</p>"
   ]
  },
  {
   "cell_type": "markdown",
   "metadata": {},
   "source": [
    "##### Creating One Instance"
   ]
  },
  {
   "cell_type": "code",
   "execution_count": 2,
   "metadata": {},
   "outputs": [
    {
     "ename": "NameError",
     "evalue": "name 'Car' is not defined",
     "output_type": "error",
     "traceback": [
      "\u001b[1;31m---------------------------------------------------------------------------\u001b[0m",
      "\u001b[1;31mNameError\u001b[0m                                 Traceback (most recent call last)",
      "Cell \u001b[1;32mIn[2], line 1\u001b[0m\n\u001b[1;32m----> 1\u001b[0m ford \u001b[38;5;241m=\u001b[39m Car()\n\u001b[0;32m      3\u001b[0m \u001b[38;5;28mprint\u001b[39m(ford)\n",
      "\u001b[1;31mNameError\u001b[0m: name 'Car' is not defined"
     ]
    }
   ],
   "source": [
    "ford = Car()\n",
    "\n",
    "print(ford)\n"
   ]
  },
  {
   "cell_type": "markdown",
   "metadata": {},
   "source": [
    "##### Creating Multiple Instances"
   ]
  },
  {
   "cell_type": "code",
   "execution_count": null,
   "metadata": {},
   "outputs": [],
   "source": [
    "agent = Agent()\n",
    "agent2 = Agent()\n",
    "\n",
    "agent1.name\n",
    "\n",
    "\n",
    "print(agent)\n",
    "\n",
    "chevy = Car()\n",
    "honda = Car()\n",
    "toyota = Car()\n",
    "\n",
    "print(chevy.wheels)\n",
    "print(honda.wheels)\n"
   ]
  },
  {
   "cell_type": "code",
   "execution_count": null,
   "metadata": {},
   "outputs": [],
   "source": []
  },
  {
   "cell_type": "markdown",
   "metadata": {},
   "source": [
    "##### In-Class Exercise #1 - Create a Class 'Car' and Instantiate three different makes of cars"
   ]
  },
  {
   "cell_type": "code",
   "execution_count": 7,
   "metadata": {},
   "outputs": [
    {
     "ename": "SyntaxError",
     "evalue": "invalid syntax (1788431515.py, line 4)",
     "output_type": "error",
     "traceback": [
      "\u001b[1;36m  Cell \u001b[1;32mIn[7], line 4\u001b[1;36m\u001b[0m\n\u001b[1;33m    def_init_(self, make, model, year, color):\u001b[0m\n\u001b[1;37m                                             ^\u001b[0m\n\u001b[1;31mSyntaxError\u001b[0m\u001b[1;31m:\u001b[0m invalid syntax\n"
     ]
    }
   ],
   "source": [
    "class Car():\n",
    "    steeringWheel = 1\n",
    "    color = \"blue\"\n",
    "    wheels = 4\n",
    "    AC = \"Yes\"\n",
    "    \n",
    "honda = Car()\n",
    "toyota = Car()\n",
    "BMW = Car()\n",
    "\n",
    "\n",
    "print(toyota.color)\n",
    "print(BMW.wheels)\n",
    "print(honda.AC)\n"
   ]
  },
  {
   "cell_type": "markdown",
   "metadata": {},
   "source": [
    "## The \\__init\\__() Method <br>\n",
    "<p>This method is used in almost every created class, and called only once upon the creation of the class instance. This method will initialize all variables needed for the object.</p>"
   ]
  },
  {
   "cell_type": "code",
   "execution_count": 12,
   "metadata": {},
   "outputs": [
    {
     "ename": "SyntaxError",
     "evalue": "unterminated string literal (detected at line 12) (4076500083.py, line 12)",
     "output_type": "error",
     "traceback": [
      "\u001b[1;36m  Cell \u001b[1;32mIn[12], line 12\u001b[1;36m\u001b[0m\n\u001b[1;33m    return f'<Car: {self.make}{self.model}{self.color}{self.year}\u001b[0m\n\u001b[1;37m           ^\u001b[0m\n\u001b[1;31mSyntaxError\u001b[0m\u001b[1;31m:\u001b[0m unterminated string literal (detected at line 12)\n"
     ]
    }
   ],
   "source": [
    "class Car:\n",
    "    wheels = 5\n",
    "    \n",
    "    def__init__(self, make, model, year, color):\n",
    "        self.make = make\n",
    "        self.model = model\n",
    "        self.year = year\n",
    "        self.color = color\n",
    "        self.make = make\n",
    "        \n",
    "    def__repr__(self):\n",
    "        return f'<Car: {self.make}{self.model}{self.color}{self.year}\n",
    "        \n",
    "car5 = Car('honda','fit',2008,'white')\n",
    "car6 = Car('chevy','impala',2008,'white')\n",
    "\n",
    "print(car5.make)\n",
    "print(car6.make)\n",
    "\n",
    "print(car5.wheels, car6.wheels)\n",
    "\n",
    "print(car5,car6)\n"
   ]
  },
  {
   "cell_type": "markdown",
   "metadata": {},
   "source": [
    "##### The 'self' Attribute <br>\n",
    "<p>This attribute is required to keep track of specific instance's attributes. Without the self attribute, the program would not know how to reference or keep track of an instance's attributes.</p>"
   ]
  },
  {
   "cell_type": "code",
   "execution_count": null,
   "metadata": {},
   "outputs": [],
   "source": [
    "# see above"
   ]
  },
  {
   "cell_type": "markdown",
   "metadata": {},
   "source": [
    "## Class Attributes <br>\n",
    "<p>While variables are inside of a class, they are referred to as attributes and not variables. When someone says 'attribute' you know they're speaking about a class. Attributes can be initialized through the init method, or outside of it.</p>"
   ]
  },
  {
   "cell_type": "markdown",
   "metadata": {},
   "source": [
    "##### Initializing Attributes"
   ]
  },
  {
   "cell_type": "code",
   "execution_count": null,
   "metadata": {},
   "outputs": [],
   "source": [
    "# see above"
   ]
  },
  {
   "cell_type": "markdown",
   "metadata": {},
   "source": [
    "##### Accessing Class Attributes"
   ]
  },
  {
   "cell_type": "code",
   "execution_count": null,
   "metadata": {
    "scrolled": true
   },
   "outputs": [],
   "source": [
    "# See Above"
   ]
  },
  {
   "cell_type": "markdown",
   "metadata": {},
   "source": [
    "##### Setting Defaults for Attributes"
   ]
  },
  {
   "cell_type": "code",
   "execution_count": null,
   "metadata": {},
   "outputs": [],
   "source": []
  },
  {
   "cell_type": "markdown",
   "metadata": {},
   "source": [
    "##### Changing Class Attributes <br>\n",
    "<p>Keep in mind there are global class attributes and then there are attributes only available to each class instance which won't effect other classes.</p>"
   ]
  },
  {
   "cell_type": "code",
   "execution_count": 14,
   "metadata": {},
   "outputs": [
    {
     "ename": "SyntaxError",
     "evalue": "invalid syntax (1006143367.py, line 1)",
     "output_type": "error",
     "traceback": [
      "\u001b[1;36m  Cell \u001b[1;32mIn[14], line 1\u001b[1;36m\u001b[0m\n\u001b[1;33m    <tesla,x,2023,red>\u001b[0m\n\u001b[1;37m    ^\u001b[0m\n\u001b[1;31mSyntaxError\u001b[0m\u001b[1;31m:\u001b[0m invalid syntax\n"
     ]
    }
   ],
   "source": [
    "# <tesla,x,2023,red>\n",
    "# <honda,fit,2008,white>\n",
    "\n",
    "\n",
    "car = Car('tesla','x',2023,'red')\n",
    "car2 = Car('honda','fit',2008,'white')\n",
    "\n",
    "print(car,car2)\n",
    "print(car.color, 'before paint job')\n",
    "\n",
    "car.color = 'egg shell'\n",
    "\n",
    "print(car.color, 'after paint job')\n",
    "\n",
    "car2.color\n",
    "\n",
    "car.wheels = 3\n",
    "\n",
    "print(car.wheels)\n",
    "\n",
    "print(car2.wheels)\n",
    "\n"
   ]
  },
  {
   "cell_type": "code",
   "execution_count": null,
   "metadata": {},
   "outputs": [],
   "source": []
  },
  {
   "cell_type": "markdown",
   "metadata": {},
   "source": [
    "##### In-Class Exercise #2 - Add a doors and seats attribute to your 'Car' class then print out two different instances with different doors and seats"
   ]
  },
  {
   "cell_type": "code",
   "execution_count": null,
   "metadata": {},
   "outputs": [],
   "source": [
    "class Vehicle:\n",
    "    def __init__(self, make, model,year, color, wheels, door,seats):\n",
    "        self.make = make\n",
    "        self.model = model\n",
    "        self.model = year\n",
    "        self.model = color\n",
    "        self.model = wheels\n",
    "        self.door = door\n",
    "        self.seats = seats\n",
    "    \n",
    "    def __repr__(self):\n",
    "        return f\"<Car:{self.make}{self.model}{self.year}{self.color}>\"\n",
    "\n",
    "    def update_color(self, color):\n",
    "        self.color = color\n",
    "        print(self)\n",
    "\n",
    "vehicle = Vehicle('honda', 'civic', '2020', 'silver')\n",
    "\n",
    "vehicle.update_color('hot pink')\n",
    "\n"
   ]
  },
  {
   "cell_type": "markdown",
   "metadata": {},
   "source": [
    "## Class Methods <br>\n",
    "<p>While inside of a class, functions are referred to as 'methods'. If you hear someone mention methods, they're speaking about classes. Methods are essentially functions, but only callable on the instances of a class.</p>"
   ]
  },
  {
   "cell_type": "markdown",
   "metadata": {},
   "source": [
    "##### Creating"
   ]
  },
  {
   "cell_type": "code",
   "execution_count": 34,
   "metadata": {},
   "outputs": [
    {
     "ename": "SyntaxError",
     "evalue": "expected ':' (3002377201.py, line 39)",
     "output_type": "error",
     "traceback": [
      "\u001b[1;36m  Cell \u001b[1;32mIn[34], line 39\u001b[1;36m\u001b[0m\n\u001b[1;33m    if user_ready == \"y\"\u001b[0m\n\u001b[1;37m                        ^\u001b[0m\n\u001b[1;31mSyntaxError\u001b[0m\u001b[1;31m:\u001b[0m expected ':'\n"
     ]
    }
   ],
   "source": [
    "class MatrixCharacter:\n",
    "    \"\"\"\n",
    "    make a decision on what pill to take\n",
    "    upon red pill wake up\n",
    "    receive training\n",
    "    enter Matrix                 0=asleep 1-awake\n",
    "    exit Matrix\n",
    "    do while\n",
    "    \"\"\"\n",
    "    \n",
    "    def __init__(self, name):\n",
    "        self.name = name\n",
    "        self.fighting_styles = fighting_styles\n",
    "        self.awake = False\n",
    "        self.trained = False\n",
    "        self.location = 1\n",
    "        \n",
    "    def driver(self):\n",
    "        while self.awake:\n",
    "            if not self.trained:\n",
    "                self.receive_training()\n",
    "            while True:\n",
    "                user_training = input(\"Do you need additonal training? [y]/[n]\")\n",
    "                if user_training = \"y\":\n",
    "                    self.addtional_training\n",
    "            self.additonal.training()    \n",
    "            self.update_location()\n",
    "            self.pill_decision()\n",
    "            \n",
    "    def pill_decision(self):\n",
    "        pill = input('[Red] pill to go down the rabbit hole or [Blue] pill to stay where you are? ')\n",
    "\n",
    "        else:\n",
    "            print('Phone ringing')\n",
    "            self.location = 0\n",
    "            \n",
    "#         print(self.location)\n",
    "        \n",
    "        \n",
    "# matrix_character.update.location()    \n",
    "matrix_character = MatrixCharacter('Neo', ['boxing', 'wrestling'])\n",
    "\n",
    "# matrix_character.receive_training()\n",
    "\n",
    "matrix.character.driver()\n",
    "        if pill == 'red':\n",
    "            self.awake = True\n",
    "        else:\n",
    "            self.awake = False\n",
    "            \n",
    "    def revieve_training(self):\n",
    "        self.fighting_styles += ['kung fu', 'taekwondo','aikido','drunken monk']\n",
    "        print(f'you now know {\" \".join(self.fighting_styles)}')\n",
    "    \n",
    "    def additional_training(self, fighting_style):\n",
    "        self.fighting_styles.append(fighting_style)\n",
    "        self.display_fighting_style()\n",
    "        \n",
    "    def update_location(self):\n",
    "        if not self.location:\n",
    "            input('Agents attacking, are you ready to enter the Matrix? [y]es/[n]o: ').lower()\n",
    "            if user_ready == \"y\"\n",
    "            print('Plugging into the Matrix')\n",
    "            self.location = 1"
   ]
  },
  {
   "cell_type": "markdown",
   "metadata": {},
   "source": [
    "##### Calling"
   ]
  },
  {
   "cell_type": "code",
   "execution_count": null,
   "metadata": {},
   "outputs": [],
   "source": [
    "# See Above"
   ]
  },
  {
   "cell_type": "markdown",
   "metadata": {},
   "source": [
    "##### Modifying an Attribute's Value Through a Method"
   ]
  },
  {
   "cell_type": "code",
   "execution_count": null,
   "metadata": {},
   "outputs": [],
   "source": []
  },
  {
   "cell_type": "markdown",
   "metadata": {},
   "source": [
    "##### Incrementing an Attribute's Value Through a Method"
   ]
  },
  {
   "cell_type": "code",
   "execution_count": null,
   "metadata": {},
   "outputs": [],
   "source": []
  },
  {
   "cell_type": "markdown",
   "metadata": {},
   "source": [
    "##### In-Class Exercise #3 - Add a method that takes in three parameters of year, doors and seats and prints out a formatted print statement with make, model, year, seats, and doors"
   ]
  },
  {
   "cell_type": "code",
   "execution_count": 36,
   "metadata": {},
   "outputs": [],
   "source": [
    "\n",
    "class Car:\n",
    "    def __init__(self, make, model):\n",
    "        self.make = make\n",
    "        self.model = model\n",
    "\n",
    "    def car_more(self, year, door, seats):\n",
    "        print(f\"This car is from {year} and is a {self.make} {self.model} and has a total of {door} doors and {seats} seats.\")\n",
    "\n",
    "my_car = Car(\"ford\", \"Explorer\")  \n",
    "\n"
   ]
  },
  {
   "cell_type": "markdown",
   "metadata": {},
   "source": [
    "## Inheritance <br>\n",
    "<p>You can create a child-parent relationship between two classes by using inheritance. What this allows you to do is have overriding methods, but also inherit traits from the parent class. Think of it as an actual parent and child, the child will inherit the parent's genes, as will the classes in OOP</p>"
   ]
  },
  {
   "cell_type": "markdown",
   "metadata": {},
   "source": [
    "##### Syntax for Inheriting from a Parent Class"
   ]
  },
  {
   "cell_type": "code",
   "execution_count": 42,
   "metadata": {},
   "outputs": [
    {
     "name": "stdout",
     "output_type": "stream",
     "text": [
      "Name: legolas Class: ranger\n"
     ]
    }
   ],
   "source": [
    "class FantasyCharacter:\n",
    "    speed = 10\n",
    "    \n",
    "    def __init__(self,name,_class):\n",
    "        self.name = name\n",
    "        self._class = _class\n",
    "        \n",
    "    def display_character(self):\n",
    "        print(f\"Name: {self.name} Class: {self._class}\")\n",
    "        \n",
    "class FantasyHuman(FantasyCharacter):\n",
    "    \n",
    "    def display_human_character(self):\n",
    "        print(f\"Human Name: {self.name} Class: {self._class}\")\n",
    "        \n",
    "fantasy_human = FantasyHuman('legolas', 'ranger')\n",
    "\n",
    "fantasy_human.display_character()"
   ]
  },
  {
   "cell_type": "markdown",
   "metadata": {},
   "source": [
    "##### The \\__init\\__() Method for a Child Class - super()"
   ]
  },
  {
   "cell_type": "code",
   "execution_count": 51,
   "metadata": {
    "scrolled": true
   },
   "outputs": [
    {
     "data": {
      "text/plain": [
       "20"
      ]
     },
     "execution_count": 51,
     "metadata": {},
     "output_type": "execute_result"
    }
   ],
   "source": [
    "class Hobbit(FantasyCharacter):\n",
    "    size = 'small'\n",
    "\n",
    "    def __init__(self, name, _class, stats, height):\n",
    "        super().__init__(name, _class)\n",
    "        self.stats = stats\n",
    "        self.height = height\n",
    "        \n",
    "    def display_my_class(self):\n",
    "        print(f' I am a {self._class}')\n",
    "        \n",
    "frodo = Hobbit('frodo', 'ranger', {'str':10, 'con':16}, '4ft5')\n",
    "\n",
    "frodo.name\n",
    "frodo._class\n",
    "frodo.stats\n",
    "\n",
    "frodo.size\n",
    "frodo.speed"
   ]
  },
  {
   "cell_type": "markdown",
   "metadata": {},
   "source": [
    "##### Defining Attributes and Methods for the Child Class"
   ]
  },
  {
   "cell_type": "code",
   "execution_count": 52,
   "metadata": {},
   "outputs": [
    {
     "name": "stdout",
     "output_type": "stream",
     "text": [
      "Name: frodo Class: ranger\n"
     ]
    }
   ],
   "source": [
    "frodo.display_character()"
   ]
  },
  {
   "cell_type": "markdown",
   "metadata": {},
   "source": [
    "##### Method Overriding"
   ]
  },
  {
   "cell_type": "code",
   "execution_count": 53,
   "metadata": {},
   "outputs": [
    {
     "name": "stdout",
     "output_type": "stream",
     "text": [
      "Stout Hobbit\n"
     ]
    }
   ],
   "source": [
    "class StoutHobbit(Hobbit):\n",
    "    def __init__(self, name, _class, stats, height, weight):\n",
    "        super().__init__(name,_class,stats,height)\n",
    "        self.weight = weight\n",
    "        \n",
    "    def display_my_class(self):\n",
    "        print('Stout Hobbit')\n",
    "        \n",
    "sam = StoutHobbit('sam', 'paladin', {'str':10, 'con':16}, '4ft5', 200)\n",
    "\n",
    "sam.speed\n",
    "\n",
    "sam.name\n",
    "\n",
    "sam.display_my_class()\n"
   ]
  },
  {
   "cell_type": "markdown",
   "metadata": {},
   "source": [
    "## Classes as Attributes <br>\n",
    "<p>Classes can also be used as attributes within another class. This is useful in situations where you need to keep variables locally stored, instead of globally stored.</p>"
   ]
  },
  {
   "cell_type": "code",
   "execution_count": 64,
   "metadata": {},
   "outputs": [
    {
     "ename": "NameError",
     "evalue": "name 'gettattr' is not defined",
     "output_type": "error",
     "traceback": [
      "\u001b[1;31m---------------------------------------------------------------------------\u001b[0m",
      "\u001b[1;31mNameError\u001b[0m                                 Traceback (most recent call last)",
      "Cell \u001b[1;32mIn[64], line 19\u001b[0m\n\u001b[0;32m     16\u001b[0m         \u001b[38;5;28;01mreturn\u001b[39;00m \u001b[38;5;124m'\u001b[39m\u001b[38;5;124m<Stats>\u001b[39m\u001b[38;5;124m'\u001b[39m\n\u001b[0;32m     17\u001b[0m stats \u001b[38;5;241m=\u001b[39m Stats()\n\u001b[1;32m---> 19\u001b[0m stats\u001b[38;5;241m.\u001b[39mdetermine_buff(\u001b[38;5;124m'\u001b[39m\u001b[38;5;124mstrength\u001b[39m\u001b[38;5;124m'\u001b[39m)\n\u001b[0;32m     21\u001b[0m sam \u001b[38;5;241m=\u001b[39m StoutHobbit(\u001b[38;5;124m'\u001b[39m\u001b[38;5;124msam\u001b[39m\u001b[38;5;124m'\u001b[39m, \u001b[38;5;124m'\u001b[39m\u001b[38;5;124mpaladin\u001b[39m\u001b[38;5;124m'\u001b[39m, Stats(), \u001b[38;5;124m'\u001b[39m\u001b[38;5;124m4ft4\u001b[39m\u001b[38;5;124m'\u001b[39m, \u001b[38;5;241m200\u001b[39m)\n\u001b[0;32m     22\u001b[0m result \u001b[38;5;241m=\u001b[39m \u001b[38;5;28minput\u001b[39m(\u001b[38;5;124m\"\u001b[39m\u001b[38;5;124mwhat attribute do you want to check?: \u001b[39m\u001b[38;5;124m\"\u001b[39m)\n",
      "Cell \u001b[1;32mIn[64], line 12\u001b[0m, in \u001b[0;36mStats.determine_buff\u001b[1;34m(self, attribute)\u001b[0m\n\u001b[0;32m     11\u001b[0m \u001b[38;5;28;01mdef\u001b[39;00m \u001b[38;5;21mdetermine_buff\u001b[39m(\u001b[38;5;28mself\u001b[39m, attribute):\n\u001b[1;32m---> 12\u001b[0m     attribute \u001b[38;5;241m=\u001b[39m gettattr(\u001b[38;5;28mself\u001b[39m, attribute)\n\u001b[0;32m     13\u001b[0m     \u001b[38;5;28;01mreturn\u001b[39;00m (attribute \u001b[38;5;241m-\u001b[39m \u001b[38;5;241m10\u001b[39m) \u001b[38;5;241m/\u001b[39m\u001b[38;5;241m/\u001b[39m \u001b[38;5;241m2\u001b[39m\n",
      "\u001b[1;31mNameError\u001b[0m: name 'gettattr' is not defined"
     ]
    }
   ],
   "source": [
    "class Stats:\n",
    "    \n",
    "    def __init__(self=10, strength=10, dexterity=10, constitution=10, wisdom=10, intelligence=10, charisma=10):\n",
    "        self.strength = strength\n",
    "        self.dexterity = dexterity\n",
    "        self.constitution = constitution\n",
    "        self.wisdom = wisdom\n",
    "        self.intelligence = intelligence\n",
    "        self.charisma = charisma\n",
    "        \n",
    "    def determine_buff(self, attribute):\n",
    "        attribute = gettattr(self, attribute)\n",
    "        return (attribute - 10) // 2\n",
    "    \n",
    "    def __repr__(self):\n",
    "        return '<Stats>'\n",
    "stats = Stats()\n",
    "\n",
    "stats.determine_buff('strength')\n",
    "\n",
    "sam = StoutHobbit('sam', 'paladin', Stats(), '4ft4', 200)\n",
    "result = input(\"what attribute do you want to check?: \")\n",
    "\n",
    "getattr(stats, 'strength')\n",
    "\n",
    "stats.strength\n",
    "sam.stats.determine_buff('dexterity')"
   ]
  },
  {
   "cell_type": "markdown",
   "metadata": {},
   "source": [
    "# Exercises"
   ]
  },
  {
   "cell_type": "markdown",
   "metadata": {},
   "source": [
    "### Exercise 1 - Turn the shopping cart program from yesterday into an object-oriented program\n",
    "\n",
    "The comments in the cell below are there as a guide for thinking about the problem. However, if you feel a different way is best for you and your own thought process, please do what feels best for you by all means."
   ]
  },
  {
   "cell_type": "code",
   "execution_count": null,
   "metadata": {},
   "outputs": [],
   "source": [
    "# Create a class called cart that retains items and has methods to add, remove, and show\n",
    "\n",
    "class Cart():\n",
    "    pass\n",
    "    "
   ]
  },
  {
   "cell_type": "markdown",
   "metadata": {},
   "source": [
    "### Exercise 2 - Write a Python class which has two methods get_String and print_String. get_String accept a string from the user and print_String print the string in upper case"
   ]
  },
  {
   "cell_type": "code",
   "execution_count": null,
   "metadata": {},
   "outputs": [],
   "source": []
  }
 ],
 "metadata": {
  "kernelspec": {
   "display_name": "Python 3 (ipykernel)",
   "language": "python",
   "name": "python3"
  },
  "language_info": {
   "codemirror_mode": {
    "name": "ipython",
    "version": 3
   },
   "file_extension": ".py",
   "mimetype": "text/x-python",
   "name": "python",
   "nbconvert_exporter": "python",
   "pygments_lexer": "ipython3",
   "version": "3.11.3"
  }
 },
 "nbformat": 4,
 "nbformat_minor": 2
}
